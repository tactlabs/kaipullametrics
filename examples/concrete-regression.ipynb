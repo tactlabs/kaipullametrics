{
 "cells": [
  {
   "cell_type": "markdown",
   "id": "ef07442e-b7a2-4e41-b31d-50458cd8f20e",
   "metadata": {},
   "source": [
    "### Concrete Strength Prediction (Regression)"
   ]
  },
  {
   "cell_type": "code",
   "execution_count": 2,
   "id": "0e280baf-769d-4a16-9cac-9e2ae6bb4ebc",
   "metadata": {},
   "outputs": [],
   "source": [
    "import pandas as pd\n",
    "from prettymetrics.supervised import LazyRegressor\n",
    "from sklearn import datasets\n",
    "from sklearn.utils import shuffle\n",
    "import numpy as np"
   ]
  },
  {
   "cell_type": "code",
   "execution_count": 12,
   "id": "2e65400c-c6da-4732-915d-ced568f420c6",
   "metadata": {},
   "outputs": [],
   "source": [
    "df=pd.read_csv('datasets/concrete.csv')"
   ]
  },
  {
   "cell_type": "code",
   "execution_count": 13,
   "id": "f7c0ba46-3242-4326-8ca3-2958b9b1f45c",
   "metadata": {},
   "outputs": [
    {
     "data": {
      "text/html": [
       "<div>\n",
       "<style scoped>\n",
       "    .dataframe tbody tr th:only-of-type {\n",
       "        vertical-align: middle;\n",
       "    }\n",
       "\n",
       "    .dataframe tbody tr th {\n",
       "        vertical-align: top;\n",
       "    }\n",
       "\n",
       "    .dataframe thead th {\n",
       "        text-align: right;\n",
       "    }\n",
       "</style>\n",
       "<table border=\"1\" class=\"dataframe\">\n",
       "  <thead>\n",
       "    <tr style=\"text-align: right;\">\n",
       "      <th></th>\n",
       "      <th>Cement (component 1)(kg in a m^3 mixture)</th>\n",
       "      <th>Blast Furnace Slag (component 2)(kg in a m^3 mixture)</th>\n",
       "      <th>Fly Ash (component 3)(kg in a m^3 mixture)</th>\n",
       "      <th>Water  (component 4)(kg in a m^3 mixture)</th>\n",
       "      <th>Superplasticizer (component 5)(kg in a m^3 mixture)</th>\n",
       "      <th>Coarse Aggregate  (component 6)(kg in a m^3 mixture)</th>\n",
       "      <th>Fine Aggregate (component 7)(kg in a m^3 mixture)</th>\n",
       "      <th>Age (day)</th>\n",
       "      <th>strength</th>\n",
       "    </tr>\n",
       "  </thead>\n",
       "  <tbody>\n",
       "    <tr>\n",
       "      <th>0</th>\n",
       "      <td>540.00</td>\n",
       "      <td>0.00</td>\n",
       "      <td>0.00</td>\n",
       "      <td>162.00</td>\n",
       "      <td>2.50</td>\n",
       "      <td>1040.00</td>\n",
       "      <td>676.00</td>\n",
       "      <td>28</td>\n",
       "      <td>79.99</td>\n",
       "    </tr>\n",
       "    <tr>\n",
       "      <th>1</th>\n",
       "      <td>540.00</td>\n",
       "      <td>0.00</td>\n",
       "      <td>0.00</td>\n",
       "      <td>162.00</td>\n",
       "      <td>2.50</td>\n",
       "      <td>1055.00</td>\n",
       "      <td>676.00</td>\n",
       "      <td>28</td>\n",
       "      <td>61.89</td>\n",
       "    </tr>\n",
       "    <tr>\n",
       "      <th>2</th>\n",
       "      <td>332.50</td>\n",
       "      <td>142.50</td>\n",
       "      <td>0.00</td>\n",
       "      <td>228.00</td>\n",
       "      <td>0.00</td>\n",
       "      <td>932.00</td>\n",
       "      <td>594.00</td>\n",
       "      <td>270</td>\n",
       "      <td>40.27</td>\n",
       "    </tr>\n",
       "    <tr>\n",
       "      <th>3</th>\n",
       "      <td>332.50</td>\n",
       "      <td>142.50</td>\n",
       "      <td>0.00</td>\n",
       "      <td>228.00</td>\n",
       "      <td>0.00</td>\n",
       "      <td>932.00</td>\n",
       "      <td>594.00</td>\n",
       "      <td>365</td>\n",
       "      <td>41.05</td>\n",
       "    </tr>\n",
       "    <tr>\n",
       "      <th>4</th>\n",
       "      <td>198.60</td>\n",
       "      <td>132.40</td>\n",
       "      <td>0.00</td>\n",
       "      <td>192.00</td>\n",
       "      <td>0.00</td>\n",
       "      <td>978.40</td>\n",
       "      <td>825.50</td>\n",
       "      <td>360</td>\n",
       "      <td>44.30</td>\n",
       "    </tr>\n",
       "    <tr>\n",
       "      <th>...</th>\n",
       "      <td>...</td>\n",
       "      <td>...</td>\n",
       "      <td>...</td>\n",
       "      <td>...</td>\n",
       "      <td>...</td>\n",
       "      <td>...</td>\n",
       "      <td>...</td>\n",
       "      <td>...</td>\n",
       "      <td>...</td>\n",
       "    </tr>\n",
       "    <tr>\n",
       "      <th>1025</th>\n",
       "      <td>276.40</td>\n",
       "      <td>116.00</td>\n",
       "      <td>90.30</td>\n",
       "      <td>179.60</td>\n",
       "      <td>8.90</td>\n",
       "      <td>870.10</td>\n",
       "      <td>768.30</td>\n",
       "      <td>28</td>\n",
       "      <td>44.28</td>\n",
       "    </tr>\n",
       "    <tr>\n",
       "      <th>1026</th>\n",
       "      <td>322.20</td>\n",
       "      <td>0.00</td>\n",
       "      <td>115.60</td>\n",
       "      <td>196.00</td>\n",
       "      <td>10.40</td>\n",
       "      <td>817.90</td>\n",
       "      <td>813.40</td>\n",
       "      <td>28</td>\n",
       "      <td>31.18</td>\n",
       "    </tr>\n",
       "    <tr>\n",
       "      <th>1027</th>\n",
       "      <td>148.50</td>\n",
       "      <td>139.40</td>\n",
       "      <td>108.60</td>\n",
       "      <td>192.70</td>\n",
       "      <td>6.10</td>\n",
       "      <td>892.40</td>\n",
       "      <td>780.00</td>\n",
       "      <td>28</td>\n",
       "      <td>23.70</td>\n",
       "    </tr>\n",
       "    <tr>\n",
       "      <th>1028</th>\n",
       "      <td>159.10</td>\n",
       "      <td>186.70</td>\n",
       "      <td>0.00</td>\n",
       "      <td>175.60</td>\n",
       "      <td>11.30</td>\n",
       "      <td>989.60</td>\n",
       "      <td>788.90</td>\n",
       "      <td>28</td>\n",
       "      <td>32.77</td>\n",
       "    </tr>\n",
       "    <tr>\n",
       "      <th>1029</th>\n",
       "      <td>260.90</td>\n",
       "      <td>100.50</td>\n",
       "      <td>78.30</td>\n",
       "      <td>200.60</td>\n",
       "      <td>8.60</td>\n",
       "      <td>864.50</td>\n",
       "      <td>761.50</td>\n",
       "      <td>28</td>\n",
       "      <td>32.40</td>\n",
       "    </tr>\n",
       "  </tbody>\n",
       "</table>\n",
       "<p>1030 rows × 9 columns</p>\n",
       "</div>"
      ],
      "text/plain": [
       "      Cement (component 1)(kg in a m^3 mixture)  \\\n",
       "0                                        540.00   \n",
       "1                                        540.00   \n",
       "2                                        332.50   \n",
       "3                                        332.50   \n",
       "4                                        198.60   \n",
       "...                                         ...   \n",
       "1025                                     276.40   \n",
       "1026                                     322.20   \n",
       "1027                                     148.50   \n",
       "1028                                     159.10   \n",
       "1029                                     260.90   \n",
       "\n",
       "      Blast Furnace Slag (component 2)(kg in a m^3 mixture)  \\\n",
       "0                                                  0.00       \n",
       "1                                                  0.00       \n",
       "2                                                142.50       \n",
       "3                                                142.50       \n",
       "4                                                132.40       \n",
       "...                                                 ...       \n",
       "1025                                             116.00       \n",
       "1026                                               0.00       \n",
       "1027                                             139.40       \n",
       "1028                                             186.70       \n",
       "1029                                             100.50       \n",
       "\n",
       "      Fly Ash (component 3)(kg in a m^3 mixture)  \\\n",
       "0                                           0.00   \n",
       "1                                           0.00   \n",
       "2                                           0.00   \n",
       "3                                           0.00   \n",
       "4                                           0.00   \n",
       "...                                          ...   \n",
       "1025                                       90.30   \n",
       "1026                                      115.60   \n",
       "1027                                      108.60   \n",
       "1028                                        0.00   \n",
       "1029                                       78.30   \n",
       "\n",
       "      Water  (component 4)(kg in a m^3 mixture)  \\\n",
       "0                                        162.00   \n",
       "1                                        162.00   \n",
       "2                                        228.00   \n",
       "3                                        228.00   \n",
       "4                                        192.00   \n",
       "...                                         ...   \n",
       "1025                                     179.60   \n",
       "1026                                     196.00   \n",
       "1027                                     192.70   \n",
       "1028                                     175.60   \n",
       "1029                                     200.60   \n",
       "\n",
       "      Superplasticizer (component 5)(kg in a m^3 mixture)  \\\n",
       "0                                                  2.50     \n",
       "1                                                  2.50     \n",
       "2                                                  0.00     \n",
       "3                                                  0.00     \n",
       "4                                                  0.00     \n",
       "...                                                 ...     \n",
       "1025                                               8.90     \n",
       "1026                                              10.40     \n",
       "1027                                               6.10     \n",
       "1028                                              11.30     \n",
       "1029                                               8.60     \n",
       "\n",
       "      Coarse Aggregate  (component 6)(kg in a m^3 mixture)  \\\n",
       "0                                               1040.00      \n",
       "1                                               1055.00      \n",
       "2                                                932.00      \n",
       "3                                                932.00      \n",
       "4                                                978.40      \n",
       "...                                                 ...      \n",
       "1025                                             870.10      \n",
       "1026                                             817.90      \n",
       "1027                                             892.40      \n",
       "1028                                             989.60      \n",
       "1029                                             864.50      \n",
       "\n",
       "      Fine Aggregate (component 7)(kg in a m^3 mixture)  Age (day)  strength  \n",
       "0                                                676.00         28     79.99  \n",
       "1                                                676.00         28     61.89  \n",
       "2                                                594.00        270     40.27  \n",
       "3                                                594.00        365     41.05  \n",
       "4                                                825.50        360     44.30  \n",
       "...                                                 ...        ...       ...  \n",
       "1025                                             768.30         28     44.28  \n",
       "1026                                             813.40         28     31.18  \n",
       "1027                                             780.00         28     23.70  \n",
       "1028                                             788.90         28     32.77  \n",
       "1029                                             761.50         28     32.40  \n",
       "\n",
       "[1030 rows x 9 columns]"
      ]
     },
     "execution_count": 13,
     "metadata": {},
     "output_type": "execute_result"
    }
   ],
   "source": [
    "df"
   ]
  },
  {
   "cell_type": "code",
   "execution_count": null,
   "id": "29ab7ae6-0097-4b61-9d2b-62b2bc242b79",
   "metadata": {},
   "outputs": [],
   "source": []
  },
  {
   "cell_type": "code",
   "execution_count": 16,
   "id": "6d15e746-8cdb-4546-b2b0-1886809c1d56",
   "metadata": {},
   "outputs": [],
   "source": [
    "X, y = shuffle(df[df.columns[:-1]], df['strength'], random_state=13)\n",
    "X = X.astype(np.float32)"
   ]
  },
  {
   "cell_type": "code",
   "execution_count": 17,
   "id": "095e0b9f-9040-42f4-913b-15cc05ef8405",
   "metadata": {},
   "outputs": [],
   "source": [
    "offset = int(X.shape[0] * 0.9)"
   ]
  },
  {
   "cell_type": "code",
   "execution_count": 18,
   "id": "9c725127-f51b-4969-900f-f0d0f94a1a07",
   "metadata": {},
   "outputs": [],
   "source": [
    "X_train, y_train = X[:offset], y[:offset]\n",
    "X_test, y_test = X[offset:], y[offset:]"
   ]
  },
  {
   "cell_type": "code",
   "execution_count": 19,
   "id": "5a00ea2d-6824-4edd-9983-59d78389a890",
   "metadata": {},
   "outputs": [
    {
     "name": "stderr",
     "output_type": "stream",
     "text": [
      " 39%|█████████████████████████████▊                                              | 22/56 [00:01<00:01, 21.15it/s]"
     ]
    },
    {
     "name": "stdout",
     "output_type": "stream",
     "text": [
      "IsotonicRegression model failed to execute\n",
      "Isotonic regression input X should be a 1d array or 2d array with 1 feature\n"
     ]
    },
    {
     "name": "stderr",
     "output_type": "stream",
     "text": [
      " 62%|███████████████████████████████████████████████▌                            | 35/56 [00:02<00:01, 12.95it/s]"
     ]
    },
    {
     "name": "stdout",
     "output_type": "stream",
     "text": [
      "MultiOutputRegressor model failed to execute\n",
      "__init__() missing 1 required positional argument: 'estimator'\n",
      "MultiTaskElasticNet model failed to execute\n",
      "For mono-task outputs, use ElasticNet\n",
      "MultiTaskElasticNetCV model failed to execute\n",
      "For mono-task outputs, use ElasticNetCVCV\n",
      "MultiTaskLasso model failed to execute\n",
      "For mono-task outputs, use ElasticNet\n",
      "MultiTaskLassoCV model failed to execute\n",
      "For mono-task outputs, use LassoCVCV\n"
     ]
    },
    {
     "name": "stderr",
     "output_type": "stream",
     "text": [
      " 77%|██████████████████████████████████████████████████████████▎                 | 43/56 [00:02<00:00, 20.52it/s]"
     ]
    },
    {
     "name": "stdout",
     "output_type": "stream",
     "text": [
      "RadiusNeighborsRegressor model failed to execute\n",
      "Input contains NaN, infinity or a value too large for dtype('float64').\n"
     ]
    },
    {
     "name": "stderr",
     "output_type": "stream",
     "text": [
      " 86%|█████████████████████████████████████████████████████████████████▏          | 48/56 [00:02<00:00, 19.41it/s]"
     ]
    },
    {
     "name": "stdout",
     "output_type": "stream",
     "text": [
      "RegressorChain model failed to execute\n",
      "__init__() missing 1 required positional argument: 'base_estimator'\n",
      "StackingRegressor model failed to execute\n",
      "__init__() missing 1 required positional argument: 'estimators'\n"
     ]
    },
    {
     "name": "stderr",
     "output_type": "stream",
     "text": [
      "100%|████████████████████████████████████████████████████████████████████████████| 56/56 [00:03<00:00, 16.72it/s]"
     ]
    },
    {
     "name": "stdout",
     "output_type": "stream",
     "text": [
      "VotingRegressor model failed to execute\n",
      "__init__() missing 1 required positional argument: 'estimators'\n"
     ]
    },
    {
     "name": "stderr",
     "output_type": "stream",
     "text": [
      "\n"
     ]
    }
   ],
   "source": [
    "reg = LazyRegressor(verbose=0, ignore_warnings=False, custom_metric=None)\n",
    "models, predictions = reg.fit(X_train, X_test, y_train, y_test)"
   ]
  },
  {
   "cell_type": "code",
   "execution_count": 20,
   "id": "03f68232-985d-40fe-914c-f0a2eb67baa4",
   "metadata": {},
   "outputs": [
    {
     "name": "stdout",
     "output_type": "stream",
     "text": [
      "                               Adjusted R-Squared  R-Squared  RMSE  Time Taken\n",
      "Model                                                                         \n",
      "HistGradientBoostingRegressor                0.94       0.94  3.99        0.27\n",
      "LGBMRegressor                                0.93       0.94  4.15        0.05\n",
      "XGBRegressor                                 0.92       0.93  4.41        0.04\n",
      "ExtraTreesRegressor                          0.91       0.92  4.66        0.17\n",
      "GradientBoostingRegressor                    0.90       0.91  5.06        0.17\n",
      "RandomForestRegressor                        0.90       0.91  5.07        0.27\n",
      "BaggingRegressor                             0.89       0.90  5.19        0.04\n",
      "ExtraTreeRegressor                           0.83       0.85  6.46        0.01\n",
      "DecisionTreeRegressor                        0.82       0.84  6.66        0.01\n",
      "AdaBoostRegressor                            0.77       0.78  7.66        0.10\n",
      "KNeighborsRegressor                          0.68       0.71  8.93        0.01\n",
      "TransformedTargetRegressor                   0.62       0.65  9.72        0.01\n",
      "LinearRegression                             0.62       0.65  9.72        0.01\n",
      "Ridge                                        0.62       0.65  9.73        0.01\n",
      "RidgeCV                                      0.62       0.65  9.73        0.01\n",
      "BayesianRidge                                0.62       0.65  9.74        0.01\n",
      "HuberRegressor                               0.62       0.65  9.74        0.01\n",
      "SGDRegressor                                 0.62       0.65  9.75        0.01\n",
      "ARDRegression                                0.62       0.65  9.77        0.02\n",
      "ElasticNetCV                                 0.62       0.65  9.78        0.05\n",
      "SVR                                          0.62       0.65  9.79        0.04\n",
      "LinearSVR                                    0.62       0.65  9.81        0.01\n",
      "LassoLarsIC                                  0.62       0.65  9.81        0.01\n",
      "CCA                                          0.61       0.64  9.82        0.01\n",
      "LassoCV                                      0.61       0.64  9.83        0.08\n",
      "LassoLarsCV                                  0.61       0.64  9.83        0.02\n",
      "LarsCV                                       0.60       0.63  9.98        0.03\n",
      "NuSVR                                        0.58       0.61 10.26        0.07\n",
      "PLSRegression                                0.57       0.60 10.38        0.01\n",
      "PoissonRegressor                             0.56       0.60 10.47        0.01\n",
      "OrthogonalMatchingPursuitCV                  0.56       0.59 10.53        0.01\n",
      "Lasso                                        0.54       0.57 10.74        0.02\n",
      "MLPRegressor                                 0.54       0.57 10.78        1.00\n",
      "Lars                                         0.50       0.54 11.17        0.01\n",
      "ElasticNet                                   0.45       0.50 11.68        0.01\n",
      "PLSCanonical                                 0.44       0.48 11.85        0.01\n",
      "TweedieRegressor                             0.39       0.44 12.33        0.01\n",
      "GammaRegressor                               0.38       0.42 12.50        0.01\n",
      "TheilSenRegressor                            0.35       0.40 12.77        0.48\n",
      "PassiveAggressiveRegressor                   0.21       0.27 14.06        0.01\n",
      "OrthogonalMatchingPursuit                    0.18       0.24 14.34        0.01\n",
      "LassoLars                                   -0.10      -0.01 16.55        0.01\n",
      "DummyRegressor                              -0.10      -0.01 16.55        0.01\n",
      "RANSACRegressor                             -0.44      -0.33 18.99        0.05\n",
      "KernelRidge                                 -4.57      -4.13 37.32        0.04\n",
      "GaussianProcessRegressor                   -11.30     -10.34 55.46        0.07\n"
     ]
    }
   ],
   "source": [
    "print(models)"
   ]
  },
  {
   "cell_type": "code",
   "execution_count": null,
   "id": "1cfed7e3-2197-410d-b2d8-4fdc945c0541",
   "metadata": {},
   "outputs": [],
   "source": []
  }
 ],
 "metadata": {
  "kernelspec": {
   "display_name": "Python 3 (ipykernel)",
   "language": "python",
   "name": "python3"
  },
  "language_info": {
   "codemirror_mode": {
    "name": "ipython",
    "version": 3
   },
   "file_extension": ".py",
   "mimetype": "text/x-python",
   "name": "python",
   "nbconvert_exporter": "python",
   "pygments_lexer": "ipython3",
   "version": "3.8.11"
  }
 },
 "nbformat": 4,
 "nbformat_minor": 5
}
